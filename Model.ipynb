{
  "nbformat": 4,
  "nbformat_minor": 0,
  "metadata": {
    "colab": {
      "provenance": [],
      "authorship_tag": "ABX9TyNh1liCz6kY7zVVDs3iv04U",
      "include_colab_link": true
    },
    "kernelspec": {
      "name": "python3",
      "display_name": "Python 3"
    },
    "language_info": {
      "name": "python"
    }
  },
  "cells": [
    {
      "cell_type": "markdown",
      "metadata": {
        "id": "view-in-github",
        "colab_type": "text"
      },
      "source": [
        "<a href=\"https://colab.research.google.com/github/kashishnarwal/Week-1/blob/main/Model.ipynb\" target=\"_parent\"><img src=\"https://colab.research.google.com/assets/colab-badge.svg\" alt=\"Open In Colab\"/></a>"
      ]
    },
    {
      "cell_type": "code",
      "execution_count": 1,
      "metadata": {
        "id": "070C1HO0ueNx"
      },
      "outputs": [],
      "source": [
        "import pandas as pd\n",
        "import pickle\n",
        "from sklearn.model_selection import train_test_split, cross_val_score\n",
        "from sklearn.pipeline import Pipeline\n",
        "from sklearn.compose import ColumnTransformer\n",
        "from sklearn.preprocessing import StandardScaler, OneHotEncoder\n",
        "from sklearn.impute import SimpleImputer\n",
        "from sklearn.ensemble import RandomForestRegressor"
      ]
    },
    {
      "cell_type": "code",
      "source": [
        "data = pd.read_csv(\"/content/cleaned_ag_data.csv\")"
      ],
      "metadata": {
        "id": "2Snywcodu82y"
      },
      "execution_count": 2,
      "outputs": []
    },
    {
      "cell_type": "code",
      "source": [
        "numeric_features = [\"Area_ha\",\"Rainfall_mm\",\"Fertilizer_kg_ha\",\"Tmin_C\",\"Tmax_C\",\"SOC_pct\",\"Year\"]\n",
        "categorical_features = [\"State\",\"District\",\"Season\",\"Crop\"]\n",
        "\n",
        "numeric_transformer = Pipeline(steps=[\n",
        "    (\"imputer\", SimpleImputer(strategy=\"median\")),\n",
        "    (\"scaler\", StandardScaler())\n",
        "])\n",
        "\n",
        "categorical_transformer = Pipeline(steps=[\n",
        "    (\"imputer\", SimpleImputer(strategy=\"most_frequent\")),\n",
        "    (\"onehot\", OneHotEncoder(handle_unknown=\"ignore\"))\n",
        "])\n",
        "\n",
        "preprocessor = ColumnTransformer(\n",
        "    transformers=[\n",
        "        (\"num\", numeric_transformer, numeric_features),\n",
        "        (\"cat\", categorical_transformer, categorical_features)\n",
        "    ]\n",
        ")\n",
        "\n",
        "data[\"Yield_t_ha\"] = data[\"Production_t\"] / data[\"Area_ha\"]\n",
        "X = data[numeric_features + categorical_features]\n",
        "y = data[\"Yield_t_ha\"]\n",
        "\n",
        "mask = y.notna()\n",
        "X_train, X_test, y_train, y_test = train_test_split(X[mask], y[mask], test_size=0.2, random_state=42)\n",
        "\n",
        "model = Pipeline(steps=[\n",
        "    (\"preprocessor\", preprocessor),\n",
        "    (\"regressor\", RandomForestRegressor(n_estimators=200, random_state=42))\n",
        "])"
      ],
      "metadata": {
        "id": "S_l-uT5bvDBz"
      },
      "execution_count": 4,
      "outputs": []
    },
    {
      "cell_type": "code",
      "source": [
        "cv_scores = cross_val_score(model, X_train, y_train, cv=5, scoring=\"r2\")\n",
        "model.fit(X_train, y_train)\n",
        "r2_test = model.score(X_test, y_test)\n",
        "\n",
        "print(\"Cross-validation R²:\", cv_scores.mean())\n",
        "print(\"Test R²:\", r2_test)\n",
        "\n",
        "with open(\"trained_model.pkl\", \"wb\") as f:\n",
        "    pickle.dump(model, f)"
      ],
      "metadata": {
        "colab": {
          "base_uri": "https://localhost:8080/"
        },
        "id": "fwH4heNKvDLa",
        "outputId": "947282f4-eccf-4d8b-e2a8-e3add22c4606"
      },
      "execution_count": 5,
      "outputs": [
        {
          "output_type": "stream",
          "name": "stdout",
          "text": [
            "Cross-validation R²: 0.9661537336515416\n",
            "Test R²: 0.983754552223419\n"
          ]
        }
      ]
    },
    {
      "cell_type": "code",
      "source": [
        "import pandas as pd\n",
        "import pickle\n",
        "\n",
        "feature_cols = [col for col in data.columns if col not in [\"Yield_t_ha\", \"Production_t\"]]\n",
        "X = data[feature_cols]\n",
        "\n",
        "with open(\"trained_model.pkl\", \"rb\") as f:\n",
        "    model = pickle.load(f)\n",
        "\n",
        "predictions = model.predict(X[:10])   # first 10 rows as example\n",
        "print(\"Predicted yields (t/ha):\", predictions)"
      ],
      "metadata": {
        "colab": {
          "base_uri": "https://localhost:8080/"
        },
        "id": "RpC-DE2Pv0HH",
        "outputId": "31ee6592-a1e8-4fa8-9e3b-9ac445cd9849"
      },
      "execution_count": 9,
      "outputs": [
        {
          "output_type": "stream",
          "name": "stdout",
          "text": [
            "Predicted yields (t/ha): [ 2.46890634  0.99425195  2.70778312  1.24955266  1.71501042  1.21878248\n",
            " 12.34869417  1.80020441  2.42700096  2.30181053]\n"
          ]
        }
      ]
    },
    {
      "cell_type": "code",
      "source": [
        "results = data.head(10).copy()\n",
        "results[\"Predicted_Yield\"] = predictions\n",
        "print(results[[\"State\",\"District\",\"Crop\",\"Season\",\"Yield_t_ha\",\"Predicted_Yield\"]])\n"
      ],
      "metadata": {
        "colab": {
          "base_uri": "https://localhost:8080/"
        },
        "id": "iQPP7jYivDOS",
        "outputId": "c6358807-4bd8-4092-b304-259e37092ce7"
      },
      "execution_count": 10,
      "outputs": [
        {
          "output_type": "stream",
          "name": "stdout",
          "text": [
            "            State     District       Crop  Season  Yield_t_ha  Predicted_Yield\n",
            "0   Uttar Pradesh   District_1  Groundnut    Rabi    2.794939         2.468906\n",
            "1  Madhya Pradesh   District_2     Pulses    Rabi    0.924709         0.994252\n",
            "2     West Bengal   District_3      Maize    Rabi    2.626560         2.707783\n",
            "3      Tamil Nadu   District_4    Mustard    Rabi    1.180864         1.249553\n",
            "4          Punjab   District_5  Groundnut  Kharif    1.726402         1.715010\n",
            "5   Uttar Pradesh   District_6    Mustard  Kharif    1.236820         1.218782\n",
            "6     Maharashtra   District_7  Sugarcane    Rabi   12.280034        12.348694\n",
            "7       Rajasthan   District_8     Barley  Kharif    1.787746         1.800204\n",
            "8         Haryana   District_9     Cotton  Kharif    2.535093         2.427001\n",
            "9     West Bengal  District_10     Barley  Kharif    2.433772         2.301811\n"
          ]
        }
      ]
    }
  ]
}