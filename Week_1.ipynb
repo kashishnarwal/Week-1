{
  "nbformat": 4,
  "nbformat_minor": 0,
  "metadata": {
    "colab": {
      "provenance": [],
      "authorship_tag": "ABX9TyMaobRjQo22nF4SJxSK/VZt",
      "include_colab_link": true
    },
    "kernelspec": {
      "name": "python3",
      "display_name": "Python 3"
    },
    "language_info": {
      "name": "python"
    }
  },
  "cells": [
    {
      "cell_type": "markdown",
      "metadata": {
        "id": "view-in-github",
        "colab_type": "text"
      },
      "source": [
        "<a href=\"https://colab.research.google.com/github/kashishnarwal/Week-1/blob/main/Week_1.ipynb\" target=\"_parent\"><img src=\"https://colab.research.google.com/assets/colab-badge.svg\" alt=\"Open In Colab\"/></a>"
      ]
    },
    {
      "cell_type": "code",
      "execution_count": 4,
      "metadata": {
        "id": "xU0MGL7J6qTc"
      },
      "outputs": [],
      "source": [
        "import pandas as pd\n",
        "import numpy as np\n",
        "import pickle\n",
        "from sklearn.model_selection import train_test_split, cross_val_score\n",
        "from sklearn.compose import ColumnTransformer\n",
        "from sklearn.preprocessing import OneHotEncoder, StandardScaler\n",
        "from sklearn.impute import SimpleImputer\n",
        "from sklearn.pipeline import Pipeline\n",
        "from sklearn.ensemble import RandomForestRegressor\n",
        "\n",
        "raw_path = \"/content/sustainable_ag_starter.csv\"\n",
        "data = pd.read_csv(raw_path)"
      ]
    },
    {
      "cell_type": "code",
      "source": [
        "numeric_features = [\"Area_ha\",\"Rainfall_mm\",\"Fertilizer_kg_ha\",\n",
        "                    \"Tmin_C\",\"Tmax_C\",\"SOC_pct\",\"Year\"]\n",
        "categorical_features = [\"State\",\"District\",\"Season\",\"Crop\"]\n",
        "\n",
        "numeric_transformer = Pipeline(steps=[\n",
        "    (\"imputer\", SimpleImputer(strategy=\"median\")),\n",
        "    (\"scaler\", StandardScaler())\n",
        "])\n",
        "\n",
        "categorical_transformer = Pipeline(steps=[\n",
        "    (\"imputer\", SimpleImputer(strategy=\"most_frequent\")),\n",
        "    (\"onehot\", OneHotEncoder(handle_unknown=\"ignore\"))\n",
        "])\n",
        "\n",
        "preprocessor = ColumnTransformer(\n",
        "    transformers=[\n",
        "        (\"num\", numeric_transformer, numeric_features),\n",
        "        (\"cat\", categorical_transformer, categorical_features)\n",
        "    ]\n",
        ")\n",
        "\n",
        "# Outlier handling\n",
        "def iqr_clip(series, factor=1.5):\n",
        "    q1 = series.quantile(0.25)\n",
        "    q3 = series.quantile(0.75)\n",
        "    iqr = q3 - q1\n",
        "    lower = q1 - factor*iqr\n",
        "    upper = q3 + factor*iqr\n",
        "    return series.clip(lower, upper)\n",
        "\n",
        "clean = data.copy()\n",
        "for col in [\"Area_ha\",\"Production_t\",\"Yield_t_ha\"]:\n",
        "    clean[col] = iqr_clip(clean[col])\n",
        "\n",
        "# Feature engineering\n",
        "\n",
        "clean[\"GDD\"] = ((clean[\"Tmax_C\"] + clean[\"Tmin_C\"]) / 2 - 10).clip(lower=0) * 120/10\n",
        "clean[\"Rainfall_Anom\"] = clean[\"Rainfall_mm\"] - clean[\"Rainfall_mm\"].median()\n",
        "\n",
        "target = \"Yield_t_ha\"\n",
        "feature_cols = numeric_features + [\"GDD\",\"Rainfall_Anom\"] + categorical_features\n",
        "\n",
        "X = clean[feature_cols]\n",
        "y = clean[target]\n",
        "\n",
        "# Modeling\n",
        "model = RandomForestRegressor(n_estimators=300, random_state=42)\n",
        "pipe = Pipeline(steps=[(\"preprocessor\", preprocessor),\n",
        "                      (\"model\", model)])\n",
        "\n",
        "mask = y.notna()\n",
        "X_train, X_test, y_train, y_test = train_test_split(\n",
        "    X[mask], y[mask], test_size=0.2, random_state=42\n",
        ")\n",
        "\n",
        "cv_scores = cross_val_score(pipe, X_train, y_train, cv=5, scoring=\"r2\")\n",
        "pipe.fit(X_train, y_train)\n",
        "r2_test = pipe.score(X_test, y_test)\n",
        "\n",
        "print(\"Cross-val R² mean:\", cv_scores.mean())\n",
        "print(\"Test R²:\", r2_test)\n",
        "\n",
        "clean_path = \"cleaned_ag_data.csv\"\n",
        "pipe_path = \"preprocessing_pipeline.pkl\"\n",
        "\n",
        "clean.to_csv(clean_path, index=False)\n",
        "with open(pipe_path, \"wb\") as f:\n",
        "    pickle.dump(pipe, f)\n",
        "\n",
        "print(\"Cleaned data saved at:\", clean_path)\n",
        "print(\"Pipeline saved at:\", pipe_path)\n"
      ],
      "metadata": {
        "colab": {
          "base_uri": "https://localhost:8080/"
        },
        "id": "8Vqim0Fs7W2D",
        "outputId": "0a413a52-4729-40ff-c607-63dd4092c75d"
      },
      "execution_count": 5,
      "outputs": [
        {
          "output_type": "stream",
          "name": "stdout",
          "text": [
            "Cross-val R² mean: 0.9587479123023247\n",
            "Test R²: 0.9461489686358847\n",
            "Cleaned data saved at: cleaned_ag_data.csv\n",
            "Pipeline saved at: preprocessing_pipeline.pkl\n"
          ]
        }
      ]
    },
    {
      "cell_type": "code",
      "source": [],
      "metadata": {
        "id": "JBNIT-VE7XBt"
      },
      "execution_count": null,
      "outputs": []
    }
  ]
}